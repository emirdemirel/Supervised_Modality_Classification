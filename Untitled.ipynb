{
 "cells": [
  {
   "cell_type": "code",
   "execution_count": 4,
   "metadata": {},
   "outputs": [
    {
     "data": {
      "text/plain": [
       "['usage: ChromaFeatureExtraction.py [-h] -t TRADITION -n NUMBEROFBINS -o',\n",
       " '                                  OUTPUT_DIRECTORY',\n",
       " '',\n",
       " 'A tool for Chroma (HPCP) Feature Extraction using Essentia library.',\n",
       " '',\n",
       " 'optional arguments:',\n",
       " '  -h, --help            show this help message and exit',\n",
       " '  -t TRADITION, --tradition TRADITION',\n",
       " '                        Input music tradition to perform the modality',\n",
       " '                        classification task',\n",
       " '  -n NUMBEROFBINS, --numberofBins NUMBEROFBINS',\n",
       " '                        Input number of bins per octave in chroma vectors',\n",
       " '  -o OUTPUT_DIRECTORY, --output_directory OUTPUT_DIRECTORY',\n",
       " '                        Output directory for the pickle file that contains the',\n",
       " '                        dataset with the extracted features']"
      ]
     },
     "execution_count": 4,
     "metadata": {},
     "output_type": "execute_result"
    }
   ],
   "source": [
    "!!python3 ChromaFeatureExtraction.py -h"
   ]
  },
  {
   "cell_type": "code",
   "execution_count": 8,
   "metadata": {},
   "outputs": [
    {
     "data": {
      "text/plain": [
       "['Analysis on TurkishClassicalMusic Tradition.',\n",
       " '',\n",
       " 'Number of bins per octave in the Chroma Vectors : 12']"
      ]
     },
     "execution_count": 8,
     "metadata": {},
     "output_type": "execute_result"
    }
   ],
   "source": [
    "!!python3 ChromaFeatureExtraction.py -t TurkishClassicalMusic -n 12 -o outDir"
   ]
  },
  {
   "cell_type": "code",
   "execution_count": null,
   "metadata": {},
   "outputs": [],
   "source": []
  }
 ],
 "metadata": {
  "kernelspec": {
   "display_name": "Python 3",
   "language": "python",
   "name": "python3"
  },
  "language_info": {
   "codemirror_mode": {
    "name": "ipython",
    "version": 3
   },
   "file_extension": ".py",
   "mimetype": "text/x-python",
   "name": "python",
   "nbconvert_exporter": "python",
   "pygments_lexer": "ipython3",
   "version": "3.5.2"
  }
 },
 "nbformat": 4,
 "nbformat_minor": 2
}
